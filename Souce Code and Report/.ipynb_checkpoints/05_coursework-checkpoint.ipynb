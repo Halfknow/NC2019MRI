{
 "cells": [
  {
   "cell_type": "markdown",
   "metadata": {},
   "source": [
    "# Neural Computation Source Code and Report\n",
    "\n",
    "## Report\n",
    "\n",
    "**Group Member Name: Zhangda Xu, Xiaoyu Xia, Lizhao Zhou, Zhun Wang, Wenzhou Liu**\n",
    "\n",
    "### Introduction\n",
    "\n",
    "Now the long acquisition time in MRI often exceeds half an hour which results in low patient throughput. Hence, normal MRI with long acquisition time increases the exam costs and has lots of problems with patient comfort and compliance. People gradually pay more and more attention on safety problems caused by its long duration in MRI machines. Some acute diseases such as acute ischemic stroke, acute intracranial hemorrhage, acute abdominal pain requires the treatment measures can provide fast and valid judgement on the state of illness since long diagnosis time will deteriorate the patients' condition and lead to secondary injury.\n",
    "\n",
    "In our project, dataset is first preprocessed to get some values for later measurements such as ground truth. After preprocess, we concentrate on undersampling methods called Cartesian undersampling trajectory, respectively 4-fold acceleration and 8-fold acceleration, to accelerate the process of MRI scanning, which is the main process to reduce the scanning time significantly from more than half an hour to only a few minustes. However, after undersampling image quality will be affected, therefore, we try two models CNN and U-Net to reconstruct the undersampled MRI data to obtain more clear images. In result, U-Net deep learning model is more suitable to reconstruct the undersampled images, which will be used as our final results.\n",
    "\n",
    "### Design\n",
    "\n",
    "### Implementation\n",
    "\n",
    "### Experiments\n",
    "\n",
    "### Conclusion\n",
    "\n",
    "### Description of Contribution\n",
    "\n",
    "### Reference\n"
   ]
  },
  {
   "cell_type": "code",
   "execution_count": null,
   "metadata": {},
   "outputs": [],
   "source": [
    "<!-- \n",
    "- originate*\n",
    "- situation and requirement\n",
    "    - advantages\n",
    "    - acute diseases\n",
    "- process*\n",
    "    - image acquisition\n",
    "        - dataset: complex-valued k-space data from MRI scanner\n",
    "            - http://mriquestions.com/what-is-k-space.html\n",
    "            - https://www.ncbi.nlm.nih.gov/pmc/articles/PMC3097694/pdf/biij-04-e15.pdf\n",
    "        - preprocess data using discrete Fourier transform (DFT)\n",
    "            - function in pdf\n",
    "            - https://medium.com/sho-jp/fourier-transform-101-part-4-discrete-fourier-transform-8fc3fbb763f3\n",
    "        - ground truth (complex-abs())\n",
    "            - absolute value of the complex-valued fully sampled image, calculated (via inverse DFT) from the complex-valued fully sampled k-space\n",
    "            - how accurate for 4-fold and 8-fold\n",
    "                - comparing your reconstruction with the ground truth\n",
    "    - undersampling\n",
    "        - mask function\n",
    "            - undersampled k-space trajectories\n",
    "                - 4-fold acceleration\n",
    "                - 8-fold acceleration\n",
    "        - measure the performance: SSIM\n",
    "            - https://en.wikipedia.org\n",
    "    - reconstruction of undersampled MRI data\n",
    "        - U-Net\n",
    "            - transform is preprocessing\n",
    "            - mask in functions\n",
    "            - main in u-net\n",
    "        - CNN\n",
    "            - two convolutions and one additional convolution to transform 32 deep to 1\n",
    "            - optimisation function SDG\n",
    "        - loss function for the model training\n",
    "            - function in pdf\n",
    "- our result* \n",
    "-->"
   ]
  }
 ],
 "metadata": {
  "file_extension": ".py",
  "kernelspec": {
   "display_name": "Python 3",
   "language": "python",
   "name": "python3"
  },
  "language_info": {
   "codemirror_mode": {
    "name": "ipython",
    "version": 3
   },
   "file_extension": ".py",
   "mimetype": "text/x-python",
   "name": "python",
   "nbconvert_exporter": "python",
   "pygments_lexer": "ipython3",
   "version": "3.7.4"
  },
  "mimetype": "text/x-python",
  "name": "python",
  "npconvert_exporter": "python",
  "pygments_lexer": "ipython3",
  "version": 3
 },
 "nbformat": 4,
 "nbformat_minor": 4
}
