{
 "cells": [
  {
   "cell_type": "markdown",
   "metadata": {},
   "source": [
    "- Conv2d means that there is a two dimensional convolution performed on the input signal composed of multiple input planes.This layer creates a convolution kernel that is wind with input layers that helps produce an output tensor.The output value of the layer with input size$(N,C_{in},H,W)$and output$(N,C_{out},H_{out},W_{out})$can be precisely describe as:\n",
    "$$out(N_i,C_{outj})=bias(C_{outj})+\\sum_{k=0}^{C_{in}-1}weight(C_{outj},k)⋆input(N_i,k)$$where N is a batch size, C is a number of channels, H is a height of input planes in pixels, W is width in pixels and ⋆ is the valid 2D cross-correlation operator."
   ]
  },
  {
   "cell_type": "markdown",
   "metadata": {},
   "source": [
    "- InstanceNorm2d is a normalization layer. It is used for instance normalization over a 4D input which is a mini-batch of 2D inputs with additional channel dimension.InstanceNorm2d is applied on each channel of channeled data like RGB images."
   ]
  },
  {
   "cell_type": "markdown",
   "metadata": {},
   "source": [
    "- ReLU(Rectified Linear Unit) is the activation function which is also a non-linear function.It makes the model easy to generalize or adapt to various data and distinguish between outputs.ReLu is defined as\n",
    "$$ReLU(x)=max(0,x)$$The reasons that make ReLU popular is the faster speed of calculation and vanishing gradient reduction which means ReLU does not saturate in the positive direction while other activation functions like sigmoid saturate in both directions.Therefore, it has fewer vanishing gradients resulting in better training."
   ]
  },
  {
   "cell_type": "markdown",
   "metadata": {},
   "source": [
    "- Dropout2d is commonly applied in convolution layer or fully-connected layers.It is used to randomly zero out entire channels and a channel is a 2D feature map.The parameter p represents the probability of an element to be zeroed.If ajacent pixels within feature map are strongly correlated, Dropout2d function will help promote independence between feature maps."
   ]
  },
  {
   "cell_type": "markdown",
   "metadata": {},
   "source": [
    "- Maxpool2d, applying a 2D max pooling over an input signal composed of several input planes, is a sample-based discretization process.The purpose is to downsample the input image and hidden layer output matrix to reduce its dimensionality and allow assumptions to be made on the features contained in the merged subregion. It reduces computational costs by reducing the number of parameters to learn.Suppose we have a 4x4 matrix that represents the original input，and we also have a 2x2 filter that will run on the input.Our stride is 2 and there will be no overlap.For each region represented by the filter, we take the maximum value of that region and create a new output matrix where each element is the maximum value of a region in the original input."
   ]
  },
  {
   "cell_type": "code",
   "execution_count": null,
   "metadata": {},
   "outputs": [],
   "source": []
  }
 ],
 "metadata": {
  "kernelspec": {
   "display_name": "Python 3",
   "language": "python",
   "name": "python3"
  },
  "language_info": {
   "codemirror_mode": {
    "name": "ipython",
    "version": 3
   },
   "file_extension": ".py",
   "mimetype": "text/x-python",
   "name": "python",
   "nbconvert_exporter": "python",
   "pygments_lexer": "ipython3",
   "version": "3.6.9"
  }
 },
 "nbformat": 4,
 "nbformat_minor": 2
}
