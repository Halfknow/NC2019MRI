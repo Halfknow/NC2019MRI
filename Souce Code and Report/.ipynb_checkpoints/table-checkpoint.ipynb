{
 "cells": [
  {
   "cell_type": "markdown",
   "metadata": {},
   "source": [
    "|  |  |  | |\n",
    "| :-----:| :---- | :---- | :---- |\n",
    "|  | SGD | RMSprop |Adam |\n",
    "| MSE |Avg loss: 0.1019 <br>Avg SSIM: 0.3615|**Avg loss: 0.0775<br>Avg SSIM: 0.4488**|Avg loss: 0.0791<br> Avg SSIM: 0.4362|\n",
    "| L1 | Avg loss: 0.0993<br> Avg SSIM: 0.3788| Avg loss: 0.0857<br>Avg SSIM: 0.4182 |Avg loss: 0.0832 <br>Avg SSIM: 0.4262 |\n",
    "|Smooth L1 | Avg loss: 0.1023<br> Avg SSIM: 0.3574| Avg loss: 0.0064 <br>Avg SSIM:0.4281  |Avg loss: 0.0814 <br> Avg SSIM: 0.4317 |"
   ]
  },
  {
   "cell_type": "markdown",
   "metadata": {},
   "source": [
    "|  |  |  |\n",
    "| :-----:| :---- | :---- |\n",
    "|  | loss | ssim |\n",
    "| CNN |0.0284 |0.338|\n",
    "| U-NET |0.0941| **0.4053** |\n"
   ]
  },
  {
   "cell_type": "markdown",
   "metadata": {},
   "source": [
    "|  |  |  |\n",
    "| :-----:| :---- | :---- |\n",
    "|  | 4af | 8af |\n",
    "| method 1 |Avg loss: 0.0072 <br>Avg SSIM: 0.5211| Avg loss: 0.0133 <br>Avg SSIM: 0.4155|\n",
    "| method 2 |Avg loss: 0.0519 <br>Avg SSIM: 0.5319|Avg loss: 0.0893 <br>Avg SSIM: 0.4308 |"
   ]
  },
  {
   "cell_type": "markdown",
   "metadata": {},
   "source": []
  }
 ],
 "metadata": {
  "kernelspec": {
   "display_name": "Python 3",
   "language": "python",
   "name": "python3"
  },
  "language_info": {
   "codemirror_mode": {
    "name": "ipython",
    "version": 3
   },
   "file_extension": ".py",
   "mimetype": "text/x-python",
   "name": "python",
   "nbconvert_exporter": "python",
   "pygments_lexer": "ipython3",
   "version": "3.6.9"
  }
 },
 "nbformat": 4,
 "nbformat_minor": 2
}
